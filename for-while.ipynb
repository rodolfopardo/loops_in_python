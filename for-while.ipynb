{
 "cells": [
  {
   "cell_type": "markdown",
   "metadata": {},
   "source": [
    "## FOR\n",
    "\n",
    "### Vamos a repasar "
   ]
  },
  {
   "cell_type": "markdown",
   "metadata": {},
   "source": [
    "For para recorrer una lista"
   ]
  },
  {
   "cell_type": "code",
   "execution_count": 3,
   "metadata": {},
   "outputs": [
    {
     "name": "stdout",
     "output_type": "stream",
     "text": [
      "77\n",
      "65\n",
      "98\n",
      "87\n",
      "99\n",
      "96\n",
      "87\n",
      "94\n",
      "91\n",
      "90\n"
     ]
    }
   ],
   "source": [
    "notas_alumnos = [77,65,98,87,99,96,87,94,91,90]\n",
    "\n",
    "for i in notas_alumnos:\n",
    "    print(i)"
   ]
  },
  {
   "cell_type": "markdown",
   "metadata": {},
   "source": [
    "For para recorrer una tupla"
   ]
  },
  {
   "cell_type": "code",
   "execution_count": 4,
   "metadata": {},
   "outputs": [],
   "source": [
    "edades = (33,43,21,23,56,76,87,54,76)"
   ]
  },
  {
   "cell_type": "code",
   "execution_count": 5,
   "metadata": {},
   "outputs": [
    {
     "name": "stdout",
     "output_type": "stream",
     "text": [
      "33\n",
      "43\n",
      "21\n",
      "23\n",
      "56\n",
      "76\n",
      "87\n",
      "54\n",
      "76\n"
     ]
    }
   ],
   "source": [
    "for e in edades:\n",
    "    print(e)"
   ]
  },
  {
   "cell_type": "markdown",
   "metadata": {},
   "source": [
    "For para recorrer un set"
   ]
  },
  {
   "cell_type": "code",
   "execution_count": 6,
   "metadata": {},
   "outputs": [],
   "source": [
    "tarjetas = {40,54,67,87,98,89,45}"
   ]
  },
  {
   "cell_type": "code",
   "execution_count": 8,
   "metadata": {},
   "outputs": [
    {
     "name": "stdout",
     "output_type": "stream",
     "text": [
      "98\n",
      "67\n",
      "40\n",
      "45\n",
      "54\n",
      "87\n",
      "89\n"
     ]
    }
   ],
   "source": [
    "for t in tarjetas:\n",
    "    print(t)"
   ]
  },
  {
   "cell_type": "markdown",
   "metadata": {},
   "source": [
    "For para recorrer un dictionary "
   ]
  },
  {
   "cell_type": "code",
   "execution_count": 9,
   "metadata": {},
   "outputs": [],
   "source": [
    "identificacion = {'name': 'Rodolfo',\n",
    "                 'email': 'rodypardo@gmail.com',\n",
    "                 'telefono': 5492613634980,\n",
    "                 'data analyst': True}"
   ]
  },
  {
   "cell_type": "code",
   "execution_count": 10,
   "metadata": {},
   "outputs": [
    {
     "name": "stdout",
     "output_type": "stream",
     "text": [
      "name\n",
      "email\n",
      "telefono\n",
      "data analyst\n"
     ]
    }
   ],
   "source": [
    "#Esto no es del todo correcto, solo imprime las keys del diccionario \n",
    "\n",
    "for i in identificacion:\n",
    "    print(i)"
   ]
  },
  {
   "cell_type": "code",
   "execution_count": 16,
   "metadata": {},
   "outputs": [
    {
     "name": "stdout",
     "output_type": "stream",
     "text": [
      "name Rodolfo\n",
      "email rodypardo@gmail.com\n",
      "telefono 5492613634980\n",
      "data analyst True\n"
     ]
    }
   ],
   "source": [
    "#Vamos a imprimir las values del diccionario \n",
    "#Hay que recorrer por items para que sea efectivo\n",
    "\n",
    "for i,j in identificacion.items():\n",
    "    print(i,j)\n",
    "    #print(j) solo imprime las values\n",
    "    #print(i) solo imprime las keys"
   ]
  },
  {
   "cell_type": "markdown",
   "metadata": {},
   "source": [
    "### Ejercicios"
   ]
  },
  {
   "cell_type": "markdown",
   "metadata": {},
   "source": [
    "1. Recorra la siguiente variable y muestre cada una de las letras"
   ]
  },
  {
   "cell_type": "code",
   "execution_count": 20,
   "metadata": {},
   "outputs": [],
   "source": [
    "#Run this\n",
    "\n",
    "nombre = \"Rodolfo\""
   ]
  },
  {
   "cell_type": "code",
   "execution_count": 21,
   "metadata": {},
   "outputs": [],
   "source": [
    "#Tu codigo aquí\n",
    "\n",
    "\n"
   ]
  },
  {
   "cell_type": "markdown",
   "metadata": {},
   "source": [
    "2. Recorra el siguiente diccionario e imprima solo los valores (values), no las llaves"
   ]
  },
  {
   "cell_type": "code",
   "execution_count": 22,
   "metadata": {},
   "outputs": [],
   "source": [
    "aguas = {'Villavicencio': 20,\n",
    "        'Bonaqua': 45, \n",
    "        'Villa del Sur': 65}"
   ]
  },
  {
   "cell_type": "code",
   "execution_count": 23,
   "metadata": {},
   "outputs": [],
   "source": [
    "#Tu codigo aquí \n",
    "\n",
    "\n"
   ]
  },
  {
   "cell_type": "markdown",
   "metadata": {},
   "source": [
    "## While"
   ]
  },
  {
   "cell_type": "code",
   "execution_count": 31,
   "metadata": {},
   "outputs": [
    {
     "name": "stdout",
     "output_type": "stream",
     "text": [
      "Gol de River\n",
      "Gol de River\n",
      "Gol de River\n",
      "Gol de River\n",
      "Gol de River\n",
      "La variable gol vale: 5\n"
     ]
    }
   ],
   "source": [
    "#La variable arranca en 0 y suma en 1\n",
    "#Todo while tiene que mantener una condicion True hasta un limite, de otra manera haremos un while infinito\n",
    "\n",
    "gol = 0 \n",
    "while gol < 5:\n",
    "    print('Gol de River')\n",
    "    gol += 1\n",
    "\n",
    "#Verificamos el valor de la variable    \n",
    "print(\"La variable gol vale:\",gol)"
   ]
  },
  {
   "cell_type": "markdown",
   "metadata": {},
   "source": [
    "## Break and Continue "
   ]
  },
  {
   "cell_type": "code",
   "execution_count": 33,
   "metadata": {},
   "outputs": [
    {
     "name": "stdout",
     "output_type": "stream",
     "text": [
      "Pepsi\n",
      "Coca\n",
      "Mirinda\n"
     ]
    }
   ],
   "source": [
    "#El uso del break para cortar cualquier iteración\n",
    "\n",
    "gaseosas = ['Pepsi','Coca','Mirinda','Fanta']\n",
    "for n in gaseosas:\n",
    "    print(n)\n",
    "    if n == 'Mirinda':\n",
    "        break"
   ]
  },
  {
   "cell_type": "code",
   "execution_count": 37,
   "metadata": {},
   "outputs": [
    {
     "name": "stdout",
     "output_type": "stream",
     "text": [
      "Pepsi\n",
      "Coca\n",
      "Mirinda\n"
     ]
    }
   ],
   "source": [
    "#Lo hacemos con un while \n",
    "\n",
    "n = 0\n",
    "while n < 4:\n",
    "    print(gaseosas[n])\n",
    "    n += 1\n",
    "    if n == 3:\n",
    "        break"
   ]
  },
  {
   "cell_type": "code",
   "execution_count": 38,
   "metadata": {},
   "outputs": [
    {
     "name": "stdout",
     "output_type": "stream",
     "text": [
      "120\n"
     ]
    }
   ],
   "source": [
    "#En este caso, multiplicamos los valores numericos de las variables\n",
    "#Este caso fue realizado por Dani\n",
    "\n",
    "not_all_nums = ['pancho',1,2,'Waldo',None,3,['Mira, una lista con un string adentro'],4,5]\n",
    "result = 1\n",
    "for num in not_all_nums:\n",
    "    if not isinstance(num, int):\n",
    "        continue\n",
    "    result *= num\n",
    "print(result)"
   ]
  },
  {
   "cell_type": "code",
   "execution_count": null,
   "metadata": {},
   "outputs": [],
   "source": []
  }
 ],
 "metadata": {
  "kernelspec": {
   "display_name": "Python 3",
   "language": "python",
   "name": "python3"
  },
  "language_info": {
   "codemirror_mode": {
    "name": "ipython",
    "version": 3
   },
   "file_extension": ".py",
   "mimetype": "text/x-python",
   "name": "python",
   "nbconvert_exporter": "python",
   "pygments_lexer": "ipython3",
   "version": "3.7.3"
  }
 },
 "nbformat": 4,
 "nbformat_minor": 2
}
